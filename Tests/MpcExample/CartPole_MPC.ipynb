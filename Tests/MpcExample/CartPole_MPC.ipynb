{
 "cells": [
  {
   "cell_type": "code",
   "execution_count": null,
   "metadata": {},
   "outputs": [],
   "source": [
    "import numpy as np\n",
    "import matplotlib.pyplot as plt\n",
    "import qpsolvers"
   ]
  },
  {
   "cell_type": "code",
   "execution_count": null,
   "metadata": {},
   "outputs": [],
   "source": [
    "dt = 0.001\n",
    "leap_mpc = 32\n",
    "dt_mpc = leap_mpc * dt \n",
    "\n",
    "DimS = 4\n",
    "DimU = 1\n",
    "\n",
    "M = 4.0 # cart mass\n",
    "m = 0.2 # bar mass\n",
    "l = 0.5 # half bar length\n",
    "b1 = 0.01 # cart viscous friction ratio\n",
    "b2 = 0.01 # bar angular viscous friction ratio\n",
    "gra = 9.81 # gravity\n",
    "I = 1/3.0 * m * 4 * l**2 # inertia of bar\n",
    "\n",
    "N = (M + m) * (I + m * l**2) - m**2 * l**2\n",
    "\n",
    "# q = [x xdot th thdot]\n",
    "\n",
    "# qdot = Aq + Bu\n",
    "A = np.array(\n",
    "    [[0, 1, 0, 0],\n",
    "     [0, -b1*(I+m*l*l)/N, -m*m*gra*l*l/N, b2*m*l/N],\n",
    "     [0, 0, 0, 1],\n",
    "     [0, b1*m*l/N, (M+m)*m*gra*l/N, -b2*(M+m)/N]\n",
    "    ])\n",
    "\n",
    "B = np.array(\n",
    "    [0, (I+m*l*l)/N, 0, -m*l/N]\n",
    ")\n",
    "\n",
    "Ak = np.eye(4) + dt * A\n",
    "Bk = dt * B\n",
    "\n",
    "# qk+1 = Ak_mpc * qk + Bk_mpc * uk\n",
    "Ak_mpc = np.eye(4) + dt_mpc * A\n",
    "Bk_mpc = dt_mpc * B\n",
    "\n",
    "# lb < uk < ub\n",
    "LBk = np.array([-50])\n",
    "UBk = np.array([50])\n",
    "\n",
    "x0 = np.array([1, 1, 0.2, 0.7])\n",
    "u = 0\n"
   ]
  },
  {
   "cell_type": "code",
   "execution_count": null,
   "metadata": {},
   "outputs": [],
   "source": [
    "horizon_length = 50\n",
    "Q = np.diag([10000, 1, 10000, 1])\n",
    "R = np.diag([10])\n",
    "\n",
    "Abar = np.zeros((DimS*horizon_length, DimS))\n",
    "Bbar = np.zeros((DimS*horizon_length, DimU * horizon_length))\n",
    "Abar[0:DimS,0:DimS] = Ak_mpc\n",
    "\n",
    "for i in range(1, horizon_length):\n",
    "    Abar[0+i*DimS:DimS+i*DimS,0:DimS] = Ak_mpc @ Abar[0+(i-1)*DimS:DimS+(i-1)*DimS, 0:DimS]\n",
    "\n",
    "for col in range(0, horizon_length):\n",
    "    for row in range(0, horizon_length):\n",
    "        if row < col:\n",
    "            continue\n",
    "        elif row == col:\n",
    "            Bbar[0+row*DimS:DimS+row*DimS, 0+col*DimU:DimU+col*DimU] = np.reshape(Bk_mpc, (DimS, DimU))\n",
    "        else:\n",
    "            Bbar[0+row*DimS:DimS+row*DimS, 0+col*DimU:DimU+col*DimU] = \\\n",
    "                Ak_mpc @ Bbar[0+(row-1)*DimS:DimS+(row-1)*DimS, 0+col*DimU:DimU+col*DimU]\n",
    "        \n",
    "Qbar = np.zeros((DimS*horizon_length, DimS*horizon_length))\n",
    "Rbar = np.zeros((DimU*horizon_length, DimU*horizon_length))\n",
    "\n",
    "for cr in range(0, horizon_length):\n",
    "    Qbar[0+cr*DimS:DimS+cr*DimS, 0+cr*DimS:DimS+cr*DimS] = Q\n",
    "    Rbar[0+cr*DimU:DimU+cr*DimU, 0+cr*DimU:DimU+cr*DimU] = R\n",
    "\n",
    "H = Rbar + Bbar.T @ Qbar @ Bbar\n",
    "GG = Abar.T @ Qbar @ Bbar\n",
    "\n",
    "LBBar = np.zeros(DimU*horizon_length)\n",
    "UBBar = np.zeros(DimU*horizon_length)\n",
    "\n",
    "for row in range(0, horizon_length):\n",
    "    LBBar[0+row*DimU:DimU+row*DimU] = LBk\n",
    "    UBBar[0+row*DimU:DimU+row*DimU] = UBk"
   ]
  },
  {
   "cell_type": "code",
   "execution_count": null,
   "metadata": {},
   "outputs": [],
   "source": [
    "#try solve QP problem\n",
    "\n",
    "sim_total_count = 6000\n",
    "t = np.zeros(sim_total_count)\n",
    "x = np.zeros((DimS, sim_total_count))\n",
    "ul = np.zeros((DimU, sim_total_count))\n",
    "\n",
    "x[:, 0] = x0\n",
    "ul[:, 0] = np.zeros((DimU, 1))\n",
    "\n",
    "u_mpc = np.zeros(horizon_length)\n",
    "\n",
    "for i in range(1, sim_total_count):\n",
    "    # print(i)\n",
    "    t[i] = i * dt\n",
    "    # solve MPC every mpc_leap cycle\n",
    "    if i % leap_mpc == 0:\n",
    "        Gk = np.reshape(x[:, i-1], (DimS, 1)).T @ GG\n",
    "        #print(Gk)\n",
    "        u_mpc = qpsolvers.solve_qp(P=H, q=Gk.flatten(), lb=LBBar.flatten(), ub=UBBar.flatten(), solver=\"quadprog\")\n",
    "\n",
    "    # do simulation\n",
    "    x[:, i] = Ak @ x[:, i-1] + np.reshape(u_mpc[0] * Bk, (DimS))\n",
    "    ul[:, i] = np.reshape(u_mpc[0], (DimU, 1))\n",
    "\n"
   ]
  },
  {
   "cell_type": "code",
   "execution_count": null,
   "metadata": {},
   "outputs": [],
   "source": [
    "plt.subplot(2,1,1)\n",
    "plt.plot(t, x[0, :], t, x[2,:])\n",
    "plt.grid(True)\n",
    "\n",
    "plt.subplot(2,1,2)\n",
    "plt.plot(t, ul.flatten())\n",
    "plt.grid(True)"
   ]
  }
 ],
 "metadata": {
  "kernelspec": {
   "display_name": "Python 3.10.6 ('pydog')",
   "language": "python",
   "name": "python3"
  },
  "language_info": {
   "codemirror_mode": {
    "name": "ipython",
    "version": 3
   },
   "file_extension": ".py",
   "mimetype": "text/x-python",
   "name": "python",
   "nbconvert_exporter": "python",
   "pygments_lexer": "ipython3",
   "version": "3.9.13"
  },
  "orig_nbformat": 4,
  "vscode": {
   "interpreter": {
    "hash": "fe6f909f3af341a8394c853f8569e11c782d685156c4d271d94806a6ca9d3f97"
   }
  }
 },
 "nbformat": 4,
 "nbformat_minor": 2
}
