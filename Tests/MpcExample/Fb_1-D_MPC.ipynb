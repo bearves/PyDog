{
 "cells": [
  {
   "cell_type": "code",
   "execution_count": 1,
   "metadata": {},
   "outputs": [],
   "source": [
    "import numpy as np\n",
    "import matplotlib.pyplot as plt\n",
    "import qpsolvers\n",
    "\n",
    "dt = 0.001\n",
    "m = 1\n",
    "gravity = -9.81\n",
    "\n",
    "A = np.array(\n",
    "    [[0, 1, 0],\n",
    "     [0, 0, 1],\n",
    "     [0, 0, 0]])\n",
    "B = np.reshape(np.array([0, 1/m, 0]), (3,1))\n",
    "\n",
    "Ak = np.eye(3) + dt * A\n",
    "Bk = dt * B\n",
    "\n",
    "x0 = np.array([0, 0, gravity])\n",
    "u = 0\n",
    "\n",
    "sim_total_count = 2000\n",
    "t = np.zeros(sim_total_count)\n",
    "x = np.zeros((3, sim_total_count))\n",
    "\n",
    "x[:, 0] = x0\n",
    "\n",
    "for i in range(1, sim_total_count):\n",
    "    t[i] = i * dt\n",
    "    x[:, i] = Ak @ x[:, i-1] + np.reshape(u * Bk, (3))\n"
   ]
  },
  {
   "cell_type": "code",
   "execution_count": 2,
   "metadata": {},
   "outputs": [],
   "source": [
    "horizon_length = 30\n",
    "Q = np.diag([10000, 30, 0])\n",
    "R = np.diag([0.01])\n",
    "\n",
    "Abar = np.zeros((3*horizon_length, 3))\n",
    "Bbar = np.zeros((3*horizon_length, horizon_length))\n",
    "Abar[0:3,0:3] = Ak\n",
    "\n",
    "for i in range(1, horizon_length):\n",
    "    Abar[0+i*3:3+i*3,0:3] = Ak @ Abar[0+(i-1)*3:3+(i-1)*3, 0:3]\n",
    "\n",
    "for col in range(0, horizon_length):\n",
    "    for row in range(0, horizon_length):\n",
    "        if row < col:\n",
    "            continue\n",
    "        elif row == col:\n",
    "            Bbar[0+row*3:3+row*3, 0+col:1+col] = Bk\n",
    "        else:\n",
    "            Bbar[0+row*3:3+row*3, 0+col:1+col] = Ak @ Bbar[0+(row-1)*3:3+(row-1)*3, 0+col:1+col]\n",
    "        \n",
    "Qbar = np.zeros((3*horizon_length, 3*horizon_length))\n",
    "Rbar = np.zeros((horizon_length, horizon_length))\n",
    "\n",
    "for col in range(0, horizon_length):\n",
    "    for row in range(0, horizon_length):\n",
    "        if row == col:\n",
    "            Qbar[0+row*3:3+row*3, 0+col*3:3+col*3] = Q\n",
    "            Rbar[row, col] = R\n",
    "\n",
    "H = Rbar + Bbar.T @ Qbar @ Bbar\n",
    "GG = Abar.T @ Qbar @ Bbar"
   ]
  },
  {
   "cell_type": "code",
   "execution_count": 3,
   "metadata": {},
   "outputs": [
    {
     "name": "stderr",
     "output_type": "stream",
     "text": [
      "c:\\Users\\Sun\\miniconda3\\envs\\pydog\\lib\\site-packages\\qpsolvers\\solvers\\typing.py:48: UserWarning: Converted P to scipy.sparse.csc.csc_matrix\n",
      "For best performance, build P as a scipy.sparse.csc_matrix rather than as a numpy.ndarray\n",
      "  warn(\n"
     ]
    }
   ],
   "source": [
    "#try solve QP problem\n",
    "\n",
    "sim_total_count = 2000\n",
    "t = np.zeros(sim_total_count)\n",
    "x = np.zeros((3, sim_total_count))\n",
    "ul = np.zeros(sim_total_count)\n",
    "\n",
    "x[:, 0] = x0\n",
    "ul[0] = 0\n",
    "\n",
    "for i in range(1, sim_total_count):\n",
    "    t[i] = i * dt\n",
    "    # solve MPC\n",
    "    Gk = np.reshape(x[:, i-1], (3, 1)).T @ GG\n",
    "    uMpc = qpsolvers.solve_qp(H, Gk.T, solver=\"osqp\")\n",
    "\n",
    "    # do simulation\n",
    "    x[:, i] = Ak @ x[:, i-1] + np.reshape(uMpc[0] * Bk, (3))\n",
    "    ul[i] = uMpc[0]\n"
   ]
  },
  {
   "cell_type": "code",
   "execution_count": 4,
   "metadata": {},
   "outputs": [
    {
     "data": {
      "image/png": "[encoded data removed]",
      "text/plain": [
       "<Figure size 640x480 with 1 Axes>"
      ]
     },
     "metadata": {},
     "output_type": "display_data"
    }
   ],
   "source": [
    "plt.plot(t, x[0,:], t, ul)\n",
    "plt.legend(['x','u'])\n",
    "plt.grid(True)"
   ]
  }
 ],
 "metadata": {
  "kernelspec": {
   "display_name": "Python 3.10.6 ('pydog')",
   "language": "python",
   "name": "python3"
  },
  "language_info": {
   "codemirror_mode": {
    "name": "ipython",
    "version": 3
   },
   "file_extension": ".py",
   "mimetype": "text/x-python",
   "name": "python",
   "nbconvert_exporter": "python",
   "pygments_lexer": "ipython3",
   "version": "3.9.13"
  },
  "orig_nbformat": 4,
  "vscode": {
   "interpreter": {
    "hash": "fe6f909f3af341a8394c853f8569e11c782d685156c4d271d94806a6ca9d3f97"
   }
  }
 },
 "nbformat": 4,
 "nbformat_minor": 2
}
