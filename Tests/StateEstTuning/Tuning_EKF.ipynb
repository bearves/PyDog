{
 "cells": [
  {
   "cell_type": "code",
   "execution_count": null,
   "metadata": {},
   "outputs": [],
   "source": [
    "import sys,os\n",
    "sys.path.append(os.getcwd()+'/../..')\n",
    "import numpy as np\n",
    "from matplotlib import pyplot as plt\n",
    "from scipy.linalg import expm\n",
    "from scipy.spatial.transform import Rotation as rot\n",
    "from RobotController import RobotStateEstimate as rse"
   ]
  },
  {
   "cell_type": "code",
   "execution_count": null,
   "metadata": {},
   "outputs": [],
   "source": [
    "# read test data from log file\n",
    "timestep = 4\n",
    "dt = 0.001 * timestep\n",
    "data = np.loadtxt('log.csv', delimiter=',', dtype=np.float64)\n",
    "cnt = data[:, 0]\n",
    "time = cnt * dt\n",
    "snsr_acc =        data[:, 1:4]\n",
    "snsr_gyr =        data[:, 4:7]\n",
    "snsr_orn =        data[:, 7:11]\n",
    "jnt_act_pos =     data[:, 11:23]\n",
    "jnt_act_vel =     data[:, 23:35]\n",
    "jnt_ref_trq =     data[:, 35:47]\n",
    "support_state =   data[:, 47:51]\n",
    "support_phase =   data[:, 51:55]\n",
    "body_act_pos =    data[:, 55:58]\n",
    "body_act_vel =    data[:, 58:61]\n",
    "body_act_orn =    data[:, 61:65]\n",
    "body_act_angvel = data[:, 65:68]\n",
    "est_body_pos =    data[:, 68:71]\n",
    "est_body_vel =    data[:, 71:74]\n",
    "est_body_orn =    data[:, 74:78]\n",
    "\n",
    "plt.plot(time, support_phase)\n",
    "plt.xlim([3,6])\n",
    "plt.grid(True)\n",
    "# plt.show()\n"
   ]
  },
  {
   "cell_type": "code",
   "execution_count": null,
   "metadata": {},
   "outputs": [],
   "source": [
    "# add noise to raw sensor data\n",
    "snsr_acc += np.random.normal(0, 1.75e-3 * 33, snsr_acc.shape)\n",
    "snsr_gyr += np.random.normal(0, 0.01 / 57.3 * 33, snsr_gyr.shape)\n",
    "acc_bias = np.zeros(snsr_acc.shape)\n",
    "gyr_bias = np.zeros(snsr_gyr.shape)\n",
    "for i in range(1, time.size):\n",
    "    acc_bias[i, :] = acc_bias[i-1, :] + np.random.normal(0, 5e-3 * 33, 3) * dt\n",
    "    gyr_bias[i, :] = gyr_bias[i-1, :] + np.random.normal(0, 5e-3 * 33, 3) * dt\n",
    "snsr_acc += acc_bias\n",
    "snsr_gyr += gyr_bias "
   ]
  },
  {
   "cell_type": "code",
   "execution_count": null,
   "metadata": {},
   "outputs": [],
   "source": [
    "# Rotate sensor data from IMU local frame to body frame/world frame\n",
    "# translation 0.000000 0.000000 0.000000\n",
    "# rotation 1.000000 0.000000 0.000000 1.570000\n",
    "pos_bs = np.array([0, 0, 0])  # bs means ___ of sensor wrt body cs\n",
    "rotaxis_bs = np.array([1, 0, 0])\n",
    "rotangle_bs = 1.57\n",
    "R_bs = rot.from_rotvec(rotaxis_bs * rotangle_bs).as_matrix()\n",
    "q_bs = rot.from_rotvec(rotaxis_bs * rotangle_bs).as_quat()\n",
    "q_sb = rot.from_rotvec(rotaxis_bs * -rotangle_bs).as_quat()\n",
    "R_sb = R_bs.T\n",
    "\n",
    "print(R_bs)\n",
    "print(q_bs)\n",
    "print(q_sb)\n",
    "\n",
    "body_orn_w = snsr_orn.copy()\n",
    "body_orn_b = snsr_orn.copy()\n",
    "body_gyr_b = snsr_gyr.copy()\n",
    "body_gyr_w = snsr_gyr.copy()\n",
    "body_acc_b = snsr_acc.copy()\n",
    "body_acc_w = snsr_acc.copy()\n",
    "\n",
    "rpy_wb = np.zeros((time.size, 3))\n",
    "\n",
    "for i in range(time.size):\n",
    "    q_ws = snsr_orn[i, :] # quat of sensor wrt world cs\n",
    "    q_wb = rse.quat_prod(q_ws, q_sb)  # quat of body wrt world cs\n",
    "    if q_wb[3] < 0:\n",
    "        q_wb *= -1\n",
    "    body_orn_w[i, :] = q_wb\n",
    "    body_orn_b[i, :] = rse.quat_inv(q_wb)\n",
    "    R_wb = rot.from_quat(q_wb).as_matrix()\n",
    "    w_ss = snsr_gyr[i, :]\n",
    "    w_bb = R_bs @ w_ss\n",
    "    w_wb = R_wb @ w_bb\n",
    "    body_gyr_b[i, :] = w_bb\n",
    "    body_gyr_w[i, :] = w_wb\n",
    "    a_ss = snsr_acc[i, :]\n",
    "    a_bb = R_bs @ a_ss\n",
    "    a_wb = R_wb @ a_bb\n",
    "    body_acc_b[i, :] = a_bb\n",
    "    body_acc_w[i, :] = a_wb\n",
    "\n",
    "    # calculate body RPY angle for read, in yaw, pitch, roll order\n",
    "    rpy_wb[i, :] = rot.from_quat(q_wb).as_euler('ZYX')\n",
    "\n",
    "\n",
    "plt.plot(time, body_gyr_w[:, 2])\n",
    "plt.plot(time, body_gyr_b[:, 2])\n",
    "plt.plot(time, body_act_angvel[:, 2])\n",
    "plt.xlim([0,10])\n",
    "plt.grid(True)\n"
   ]
  },
  {
   "cell_type": "code",
   "execution_count": null,
   "metadata": {},
   "outputs": [],
   "source": [
    "# feed data to state estimator\n",
    "body_pos_init = body_act_pos[0, :]\n",
    "body_vel_init = body_act_vel[0, :]\n",
    "body_orn_init = body_act_orn[0, :]\n",
    "jnt_pos_init = jnt_act_pos[0, :]\n",
    "\n",
    "estimator = rse.QuadStateEstimator(dt)\n",
    "estimator.reset_state(body_pos_init, body_vel_init, body_orn_init, jnt_pos_init)\n",
    "\n",
    "# total_step = time.size\n",
    "total_step = time.size\n",
    "robot_state = np.zeros((total_step, estimator.ns))\n",
    "\n",
    "for i in range(0, total_step):\n",
    "    estimator.update(\n",
    "        body_gyr_b[i, :], \n",
    "        body_acc_b[i, :], \n",
    "        jnt_act_pos[i, :],\n",
    "        jnt_act_vel[i, :],\n",
    "        jnt_ref_trq[i, :],\n",
    "        support_state[i, :],\n",
    "        support_phase[i, :] )\n",
    "    x = estimator.get_results()\n",
    "    robot_state[i, :] = x"
   ]
  },
  {
   "cell_type": "code",
   "execution_count": null,
   "metadata": {},
   "outputs": [],
   "source": [
    "# convert robot orn into rpy for read\n",
    "est_p_wb = robot_state[:, 0:3]\n",
    "est_v_wb = robot_state[:, 3:6]\n",
    "est_q_bw = robot_state[:, 6:10]\n",
    "est_p_tip = robot_state[:, 10:22]\n",
    "est_bias_acc = robot_state[:, 22:25]\n",
    "est_bias_gyr = robot_state[:, 25:28]\n",
    "\n",
    "est_rpy_wb = np.zeros((total_step, 3))\n",
    "real_rpy_wb = np.zeros((total_step, 3))\n",
    "est_rpy_wb2 = np.zeros((total_step, 3))\n",
    "\n",
    "for i in range(total_step):\n",
    "    est_q_wb_i = rse.quat_inv(est_q_bw[i, :])\n",
    "    #est_q_wb_i = est_q_bw[i, :]\n",
    "    est_rpy_wb[i, :] = rot.from_quat(est_q_wb_i).as_euler('ZYX')\n",
    "    q_real_wb_i = body_act_orn[i, :]\n",
    "    real_rpy_wb[i, :] = rot.from_quat(q_real_wb_i).as_euler('ZYX')\n",
    "    est_rpy_wb2[i, :] = rot.from_quat(est_body_orn[i,:]).as_euler('ZYX')"
   ]
  },
  {
   "cell_type": "code",
   "execution_count": null,
   "metadata": {},
   "outputs": [],
   "source": [
    "print(x)\n",
    "tend = total_step\n",
    "\n",
    "for i in range(3):\n",
    "    plt.subplot(3,1,i+1)\n",
    "    plt.plot(time[0:tend], est_p_wb[0:tend, i])\n",
    "    plt.plot(time[0:tend], body_act_pos[0:tend, i])\n",
    "    plt.plot(time[0:tend], est_body_pos[0:tend, i])\n",
    "    #plt.xlim([0.5,0.55])\n",
    "    plt.grid(True)"
   ]
  },
  {
   "cell_type": "code",
   "execution_count": null,
   "metadata": {},
   "outputs": [],
   "source": [
    "plt.subplot(3,1,1)\n",
    "plt.plot(time[0:tend], body_act_vel[0:tend, 0])\n",
    "plt.plot(time[0:tend], est_v_wb[0:tend, 0])\n",
    "plt.plot(time[0:tend], est_body_vel[0:tend, 0])\n",
    "#plt.xlim([5,10])\n",
    "plt.grid(True)\n",
    "plt.subplot(3,1,2)\n",
    "plt.plot(time[0:tend], body_act_vel[0:tend, 1])\n",
    "plt.plot(time[0:tend], est_v_wb[0:tend, 1])\n",
    "plt.plot(time[0:tend], est_body_vel[0:tend, 1])\n",
    "#plt.xlim([5,10])\n",
    "plt.grid(True)\n",
    "plt.subplot(3,1,3)\n",
    "plt.plot(time[0:tend], body_act_vel[0:tend, 2])\n",
    "plt.plot(time[0:tend], est_v_wb[0:tend, 2])\n",
    "plt.plot(time[0:tend], est_body_vel[0:tend, 2])\n",
    "#plt.xlim([5,10])\n",
    "plt.grid(True)"
   ]
  },
  {
   "cell_type": "code",
   "execution_count": null,
   "metadata": {},
   "outputs": [],
   "source": [
    "\n",
    "plt.subplot(3,1,1)\n",
    "plt.plot(time[0:tend], real_rpy_wb[0:tend, 0])\n",
    "plt.plot(time[0:tend], est_rpy_wb[0:tend, 0])\n",
    "plt.plot(time[0:tend], est_rpy_wb2[0:tend, 0])\n",
    "plt.grid(True)\n",
    "plt.subplot(3,1,2)\n",
    "plt.plot(time[0:tend], real_rpy_wb[0:tend, 1])\n",
    "plt.plot(time[0:tend], est_rpy_wb[0:tend, 1])\n",
    "plt.plot(time[0:tend], est_rpy_wb2[0:tend, 1])\n",
    "plt.grid(True)\n",
    "plt.subplot(3,1,3)\n",
    "plt.plot(time[0:tend], real_rpy_wb[0:tend, 2])\n",
    "plt.plot(time[0:tend], est_rpy_wb[0:tend, 2])\n",
    "plt.plot(time[0:tend], est_rpy_wb2[0:tend, 2])\n",
    "plt.grid(True)"
   ]
  },
  {
   "cell_type": "code",
   "execution_count": null,
   "metadata": {},
   "outputs": [],
   "source": [
    "plt.plot(time, est_p_tip[:,[2, 5, 8, 11]])\n",
    "#plt.xlim([5,8])"
   ]
  },
  {
   "cell_type": "code",
   "execution_count": null,
   "metadata": {},
   "outputs": [],
   "source": [
    "plt.plot(time,est_body_pos[:, 2] - est_p_tip[:,2])\n",
    "plt.plot(time,est_body_pos[:, 2] - est_p_tip[:,5])\n",
    "plt.xlim([15,18])"
   ]
  },
  {
   "cell_type": "code",
   "execution_count": null,
   "metadata": {},
   "outputs": [],
   "source": [
    "plt.plot(time, est_bias_acc)\n",
    "plt.plot(time, acc_bias)\n",
    "plt.grid(True)\n",
    "#plt.xlim([5,8])"
   ]
  }
 ],
 "metadata": {
  "kernelspec": {
   "display_name": "Python 3.10.6 ('pydog')",
   "language": "python",
   "name": "python3"
  },
  "language_info": {
   "codemirror_mode": {
    "name": "ipython",
    "version": 3
   },
   "file_extension": ".py",
   "mimetype": "text/x-python",
   "name": "python",
   "nbconvert_exporter": "python",
   "pygments_lexer": "ipython3",
   "version": "3.9.13"
  },
  "orig_nbformat": 4,
  "vscode": {
   "interpreter": {
    "hash": "fe6f909f3af341a8394c853f8569e11c782d685156c4d271d94806a6ca9d3f97"
   }
  }
 },
 "nbformat": 4,
 "nbformat_minor": 2
}
